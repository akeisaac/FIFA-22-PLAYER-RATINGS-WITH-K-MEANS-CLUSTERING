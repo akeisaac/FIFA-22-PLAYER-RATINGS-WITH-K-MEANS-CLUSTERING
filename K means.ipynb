{
 "cells": [
  {
   "cell_type": "code",
   "execution_count": 1,
   "outputs": [],
   "source": [
    "import pandas as pd\n",
    "import numpy as np"
   ],
   "metadata": {
    "collapsed": false,
    "pycharm": {
     "name": "#%%\n"
    }
   }
  },
  {
   "cell_type": "code",
   "execution_count": 2,
   "outputs": [
    {
     "name": "stderr",
     "output_type": "stream",
     "text": [
      "C:\\Users\\akeis\\AppData\\Local\\Temp\\ipykernel_12760\\2061566770.py:1: DtypeWarning: Columns (25,108) have mixed types. Specify dtype option on import or set low_memory=False.\n",
      "  players = pd.read_csv(\"players_22.csv\")\n"
     ]
    }
   ],
   "source": [
    "players = pd.read_csv(\"players_22.csv\")"
   ],
   "metadata": {
    "collapsed": false,
    "pycharm": {
     "name": "#%%\n"
    }
   }
  },
  {
   "cell_type": "code",
   "execution_count": 3,
   "outputs": [
    {
     "data": {
      "text/plain": "   sofifa_id                                         player_url  \\\n0     158023  https://sofifa.com/player/158023/lionel-messi/...   \n1     188545  https://sofifa.com/player/188545/robert-lewand...   \n2      20801  https://sofifa.com/player/20801/c-ronaldo-dos-...   \n3     190871  https://sofifa.com/player/190871/neymar-da-sil...   \n4     192985  https://sofifa.com/player/192985/kevin-de-bruy...   \n\n          short_name                            long_name player_positions  \\\n0           L. Messi       Lionel Andrés Messi Cuccittini       RW, ST, CF   \n1     R. Lewandowski                   Robert Lewandowski               ST   \n2  Cristiano Ronaldo  Cristiano Ronaldo dos Santos Aveiro           ST, LW   \n3          Neymar Jr        Neymar da Silva Santos Júnior          LW, CAM   \n4       K. De Bruyne                      Kevin De Bruyne          CM, CAM   \n\n   overall  potential    value_eur  wage_eur  age  ...   lcb    cb   rcb  \\\n0       93         93   78000000.0  320000.0   34  ...  50+3  50+3  50+3   \n1       92         92  119500000.0  270000.0   32  ...  60+3  60+3  60+3   \n2       91         91   45000000.0  270000.0   36  ...  53+3  53+3  53+3   \n3       91         91  129000000.0  270000.0   29  ...  50+3  50+3  50+3   \n4       91         91  125500000.0  350000.0   30  ...  69+3  69+3  69+3   \n\n     rb    gk                                    player_face_url  \\\n0  61+3  19+3  https://cdn.sofifa.net/players/158/023/22_120.png   \n1  61+3  19+3  https://cdn.sofifa.net/players/188/545/22_120.png   \n2  60+3  20+3  https://cdn.sofifa.net/players/020/801/22_120.png   \n3  62+3  20+3  https://cdn.sofifa.net/players/190/871/22_120.png   \n4  75+3  21+3  https://cdn.sofifa.net/players/192/985/22_120.png   \n\n                            club_logo_url  \\\n0  https://cdn.sofifa.net/teams/73/60.png   \n1  https://cdn.sofifa.net/teams/21/60.png   \n2  https://cdn.sofifa.net/teams/11/60.png   \n3  https://cdn.sofifa.net/teams/73/60.png   \n4  https://cdn.sofifa.net/teams/10/60.png   \n\n                             club_flag_url  \\\n0      https://cdn.sofifa.net/flags/fr.png   \n1      https://cdn.sofifa.net/flags/de.png   \n2  https://cdn.sofifa.net/flags/gb-eng.png   \n3      https://cdn.sofifa.net/flags/fr.png   \n4  https://cdn.sofifa.net/flags/gb-eng.png   \n\n                            nation_logo_url  \\\n0  https://cdn.sofifa.net/teams/1369/60.png   \n1  https://cdn.sofifa.net/teams/1353/60.png   \n2  https://cdn.sofifa.net/teams/1354/60.png   \n3                                       NaN   \n4  https://cdn.sofifa.net/teams/1325/60.png   \n\n                       nation_flag_url  \n0  https://cdn.sofifa.net/flags/ar.png  \n1  https://cdn.sofifa.net/flags/pl.png  \n2  https://cdn.sofifa.net/flags/pt.png  \n3  https://cdn.sofifa.net/flags/br.png  \n4  https://cdn.sofifa.net/flags/be.png  \n\n[5 rows x 110 columns]",
      "text/html": "<div>\n<style scoped>\n    .dataframe tbody tr th:only-of-type {\n        vertical-align: middle;\n    }\n\n    .dataframe tbody tr th {\n        vertical-align: top;\n    }\n\n    .dataframe thead th {\n        text-align: right;\n    }\n</style>\n<table border=\"1\" class=\"dataframe\">\n  <thead>\n    <tr style=\"text-align: right;\">\n      <th></th>\n      <th>sofifa_id</th>\n      <th>player_url</th>\n      <th>short_name</th>\n      <th>long_name</th>\n      <th>player_positions</th>\n      <th>overall</th>\n      <th>potential</th>\n      <th>value_eur</th>\n      <th>wage_eur</th>\n      <th>age</th>\n      <th>...</th>\n      <th>lcb</th>\n      <th>cb</th>\n      <th>rcb</th>\n      <th>rb</th>\n      <th>gk</th>\n      <th>player_face_url</th>\n      <th>club_logo_url</th>\n      <th>club_flag_url</th>\n      <th>nation_logo_url</th>\n      <th>nation_flag_url</th>\n    </tr>\n  </thead>\n  <tbody>\n    <tr>\n      <th>0</th>\n      <td>158023</td>\n      <td>https://sofifa.com/player/158023/lionel-messi/...</td>\n      <td>L. Messi</td>\n      <td>Lionel Andrés Messi Cuccittini</td>\n      <td>RW, ST, CF</td>\n      <td>93</td>\n      <td>93</td>\n      <td>78000000.0</td>\n      <td>320000.0</td>\n      <td>34</td>\n      <td>...</td>\n      <td>50+3</td>\n      <td>50+3</td>\n      <td>50+3</td>\n      <td>61+3</td>\n      <td>19+3</td>\n      <td>https://cdn.sofifa.net/players/158/023/22_120.png</td>\n      <td>https://cdn.sofifa.net/teams/73/60.png</td>\n      <td>https://cdn.sofifa.net/flags/fr.png</td>\n      <td>https://cdn.sofifa.net/teams/1369/60.png</td>\n      <td>https://cdn.sofifa.net/flags/ar.png</td>\n    </tr>\n    <tr>\n      <th>1</th>\n      <td>188545</td>\n      <td>https://sofifa.com/player/188545/robert-lewand...</td>\n      <td>R. Lewandowski</td>\n      <td>Robert Lewandowski</td>\n      <td>ST</td>\n      <td>92</td>\n      <td>92</td>\n      <td>119500000.0</td>\n      <td>270000.0</td>\n      <td>32</td>\n      <td>...</td>\n      <td>60+3</td>\n      <td>60+3</td>\n      <td>60+3</td>\n      <td>61+3</td>\n      <td>19+3</td>\n      <td>https://cdn.sofifa.net/players/188/545/22_120.png</td>\n      <td>https://cdn.sofifa.net/teams/21/60.png</td>\n      <td>https://cdn.sofifa.net/flags/de.png</td>\n      <td>https://cdn.sofifa.net/teams/1353/60.png</td>\n      <td>https://cdn.sofifa.net/flags/pl.png</td>\n    </tr>\n    <tr>\n      <th>2</th>\n      <td>20801</td>\n      <td>https://sofifa.com/player/20801/c-ronaldo-dos-...</td>\n      <td>Cristiano Ronaldo</td>\n      <td>Cristiano Ronaldo dos Santos Aveiro</td>\n      <td>ST, LW</td>\n      <td>91</td>\n      <td>91</td>\n      <td>45000000.0</td>\n      <td>270000.0</td>\n      <td>36</td>\n      <td>...</td>\n      <td>53+3</td>\n      <td>53+3</td>\n      <td>53+3</td>\n      <td>60+3</td>\n      <td>20+3</td>\n      <td>https://cdn.sofifa.net/players/020/801/22_120.png</td>\n      <td>https://cdn.sofifa.net/teams/11/60.png</td>\n      <td>https://cdn.sofifa.net/flags/gb-eng.png</td>\n      <td>https://cdn.sofifa.net/teams/1354/60.png</td>\n      <td>https://cdn.sofifa.net/flags/pt.png</td>\n    </tr>\n    <tr>\n      <th>3</th>\n      <td>190871</td>\n      <td>https://sofifa.com/player/190871/neymar-da-sil...</td>\n      <td>Neymar Jr</td>\n      <td>Neymar da Silva Santos Júnior</td>\n      <td>LW, CAM</td>\n      <td>91</td>\n      <td>91</td>\n      <td>129000000.0</td>\n      <td>270000.0</td>\n      <td>29</td>\n      <td>...</td>\n      <td>50+3</td>\n      <td>50+3</td>\n      <td>50+3</td>\n      <td>62+3</td>\n      <td>20+3</td>\n      <td>https://cdn.sofifa.net/players/190/871/22_120.png</td>\n      <td>https://cdn.sofifa.net/teams/73/60.png</td>\n      <td>https://cdn.sofifa.net/flags/fr.png</td>\n      <td>NaN</td>\n      <td>https://cdn.sofifa.net/flags/br.png</td>\n    </tr>\n    <tr>\n      <th>4</th>\n      <td>192985</td>\n      <td>https://sofifa.com/player/192985/kevin-de-bruy...</td>\n      <td>K. De Bruyne</td>\n      <td>Kevin De Bruyne</td>\n      <td>CM, CAM</td>\n      <td>91</td>\n      <td>91</td>\n      <td>125500000.0</td>\n      <td>350000.0</td>\n      <td>30</td>\n      <td>...</td>\n      <td>69+3</td>\n      <td>69+3</td>\n      <td>69+3</td>\n      <td>75+3</td>\n      <td>21+3</td>\n      <td>https://cdn.sofifa.net/players/192/985/22_120.png</td>\n      <td>https://cdn.sofifa.net/teams/10/60.png</td>\n      <td>https://cdn.sofifa.net/flags/gb-eng.png</td>\n      <td>https://cdn.sofifa.net/teams/1325/60.png</td>\n      <td>https://cdn.sofifa.net/flags/be.png</td>\n    </tr>\n  </tbody>\n</table>\n<p>5 rows × 110 columns</p>\n</div>"
     },
     "execution_count": 3,
     "metadata": {},
     "output_type": "execute_result"
    }
   ],
   "source": [
    "players.head()"
   ],
   "metadata": {
    "collapsed": false,
    "pycharm": {
     "name": "#%%\n"
    }
   }
  },
  {
   "cell_type": "code",
   "execution_count": 4,
   "outputs": [
    {
     "data": {
      "text/plain": "Index(['sofifa_id', 'player_url', 'short_name', 'long_name',\n       'player_positions', 'overall', 'potential', 'value_eur', 'wage_eur',\n       'age',\n       ...\n       'lcb', 'cb', 'rcb', 'rb', 'gk', 'player_face_url', 'club_logo_url',\n       'club_flag_url', 'nation_logo_url', 'nation_flag_url'],\n      dtype='object', length=110)"
     },
     "execution_count": 4,
     "metadata": {},
     "output_type": "execute_result"
    }
   ],
   "source": [
    "players.columns"
   ],
   "metadata": {
    "collapsed": false,
    "pycharm": {
     "name": "#%%\n"
    }
   }
  },
  {
   "cell_type": "code",
   "execution_count": 5,
   "outputs": [],
   "source": [
    "# list of variables to be clustered\n",
    "features = [\"overall\", \"potential\",\"wage_eur\",\"value_eur\", \"age\"]"
   ],
   "metadata": {
    "collapsed": false,
    "pycharm": {
     "name": "#%%\n"
    }
   }
  },
  {
   "cell_type": "code",
   "execution_count": 6,
   "outputs": [],
   "source": [
    "#drop rows where missing values are present in features variable\n",
    "players = players.dropna(subset=features)"
   ],
   "metadata": {
    "collapsed": false,
    "pycharm": {
     "name": "#%%\n"
    }
   }
  },
  {
   "cell_type": "code",
   "execution_count": 7,
   "outputs": [],
   "source": [
    "#data dataframe is to be used for clustering\n",
    "data = players[features].copy()"
   ],
   "metadata": {
    "collapsed": false,
    "pycharm": {
     "name": "#%%\n"
    }
   }
  },
  {
   "cell_type": "code",
   "execution_count": 8,
   "outputs": [
    {
     "data": {
      "text/plain": "       overall  potential  wage_eur    value_eur  age\n0           93         93  320000.0   78000000.0   34\n1           92         92  270000.0  119500000.0   32\n2           91         91  270000.0   45000000.0   36\n3           91         91  270000.0  129000000.0   29\n4           91         91  350000.0  125500000.0   30\n...        ...        ...       ...          ...  ...\n19234       47         52    1000.0      70000.0   22\n19235       47         59     500.0     110000.0   19\n19236       47         55     500.0     100000.0   21\n19237       47         60     500.0     110000.0   19\n19238       47         60     500.0     110000.0   19\n\n[19165 rows x 5 columns]",
      "text/html": "<div>\n<style scoped>\n    .dataframe tbody tr th:only-of-type {\n        vertical-align: middle;\n    }\n\n    .dataframe tbody tr th {\n        vertical-align: top;\n    }\n\n    .dataframe thead th {\n        text-align: right;\n    }\n</style>\n<table border=\"1\" class=\"dataframe\">\n  <thead>\n    <tr style=\"text-align: right;\">\n      <th></th>\n      <th>overall</th>\n      <th>potential</th>\n      <th>wage_eur</th>\n      <th>value_eur</th>\n      <th>age</th>\n    </tr>\n  </thead>\n  <tbody>\n    <tr>\n      <th>0</th>\n      <td>93</td>\n      <td>93</td>\n      <td>320000.0</td>\n      <td>78000000.0</td>\n      <td>34</td>\n    </tr>\n    <tr>\n      <th>1</th>\n      <td>92</td>\n      <td>92</td>\n      <td>270000.0</td>\n      <td>119500000.0</td>\n      <td>32</td>\n    </tr>\n    <tr>\n      <th>2</th>\n      <td>91</td>\n      <td>91</td>\n      <td>270000.0</td>\n      <td>45000000.0</td>\n      <td>36</td>\n    </tr>\n    <tr>\n      <th>3</th>\n      <td>91</td>\n      <td>91</td>\n      <td>270000.0</td>\n      <td>129000000.0</td>\n      <td>29</td>\n    </tr>\n    <tr>\n      <th>4</th>\n      <td>91</td>\n      <td>91</td>\n      <td>350000.0</td>\n      <td>125500000.0</td>\n      <td>30</td>\n    </tr>\n    <tr>\n      <th>...</th>\n      <td>...</td>\n      <td>...</td>\n      <td>...</td>\n      <td>...</td>\n      <td>...</td>\n    </tr>\n    <tr>\n      <th>19234</th>\n      <td>47</td>\n      <td>52</td>\n      <td>1000.0</td>\n      <td>70000.0</td>\n      <td>22</td>\n    </tr>\n    <tr>\n      <th>19235</th>\n      <td>47</td>\n      <td>59</td>\n      <td>500.0</td>\n      <td>110000.0</td>\n      <td>19</td>\n    </tr>\n    <tr>\n      <th>19236</th>\n      <td>47</td>\n      <td>55</td>\n      <td>500.0</td>\n      <td>100000.0</td>\n      <td>21</td>\n    </tr>\n    <tr>\n      <th>19237</th>\n      <td>47</td>\n      <td>60</td>\n      <td>500.0</td>\n      <td>110000.0</td>\n      <td>19</td>\n    </tr>\n    <tr>\n      <th>19238</th>\n      <td>47</td>\n      <td>60</td>\n      <td>500.0</td>\n      <td>110000.0</td>\n      <td>19</td>\n    </tr>\n  </tbody>\n</table>\n<p>19165 rows × 5 columns</p>\n</div>"
     },
     "execution_count": 8,
     "metadata": {},
     "output_type": "execute_result"
    }
   ],
   "source": [
    "data"
   ],
   "metadata": {
    "collapsed": false,
    "pycharm": {
     "name": "#%%\n"
    }
   }
  },
  {
   "cell_type": "code",
   "execution_count": null,
   "outputs": [],
   "source": [
    "#1. scale data.\n",
    "#2.Initialize random centroids\n",
    "#3. Label each data point\n",
    "#4. Update centriods\n",
    "#5. repeat step 3 and 4 until centriods stop changing"
   ],
   "metadata": {
    "collapsed": false,
    "pycharm": {
     "name": "#%%\n"
    }
   }
  },
  {
   "cell_type": "code",
   "execution_count": 9,
   "outputs": [],
   "source": [
    "data = (data -data.min()) / (data.max()- data.min()) * 9 + 1"
   ],
   "metadata": {
    "collapsed": false,
    "pycharm": {
     "name": "#%%\n"
    }
   }
  },
  {
   "cell_type": "code",
   "execution_count": 10,
   "outputs": [
    {
     "data": {
      "text/plain": "            overall     potential      wage_eur     value_eur           age\ncount  19165.000000  19165.000000  19165.000000  19165.000000  19165.000000\nmean       4.670472      5.319998      1.219443      1.131826      4.063345\nstd        1.346635      1.191076      0.501528      0.353229      1.575838\nmin        1.000000      1.000000      1.000000      1.000000      1.000000\n25%        3.739130      4.521739      1.012876      1.021620      2.666667\n50%        4.717391      5.304348      1.064378      1.044817      4.000000\n75%        5.500000      6.086957      1.193133      1.092370      5.333333\nmax       10.000000     10.000000     10.000000     10.000000     10.000000",
      "text/html": "<div>\n<style scoped>\n    .dataframe tbody tr th:only-of-type {\n        vertical-align: middle;\n    }\n\n    .dataframe tbody tr th {\n        vertical-align: top;\n    }\n\n    .dataframe thead th {\n        text-align: right;\n    }\n</style>\n<table border=\"1\" class=\"dataframe\">\n  <thead>\n    <tr style=\"text-align: right;\">\n      <th></th>\n      <th>overall</th>\n      <th>potential</th>\n      <th>wage_eur</th>\n      <th>value_eur</th>\n      <th>age</th>\n    </tr>\n  </thead>\n  <tbody>\n    <tr>\n      <th>count</th>\n      <td>19165.000000</td>\n      <td>19165.000000</td>\n      <td>19165.000000</td>\n      <td>19165.000000</td>\n      <td>19165.000000</td>\n    </tr>\n    <tr>\n      <th>mean</th>\n      <td>4.670472</td>\n      <td>5.319998</td>\n      <td>1.219443</td>\n      <td>1.131826</td>\n      <td>4.063345</td>\n    </tr>\n    <tr>\n      <th>std</th>\n      <td>1.346635</td>\n      <td>1.191076</td>\n      <td>0.501528</td>\n      <td>0.353229</td>\n      <td>1.575838</td>\n    </tr>\n    <tr>\n      <th>min</th>\n      <td>1.000000</td>\n      <td>1.000000</td>\n      <td>1.000000</td>\n      <td>1.000000</td>\n      <td>1.000000</td>\n    </tr>\n    <tr>\n      <th>25%</th>\n      <td>3.739130</td>\n      <td>4.521739</td>\n      <td>1.012876</td>\n      <td>1.021620</td>\n      <td>2.666667</td>\n    </tr>\n    <tr>\n      <th>50%</th>\n      <td>4.717391</td>\n      <td>5.304348</td>\n      <td>1.064378</td>\n      <td>1.044817</td>\n      <td>4.000000</td>\n    </tr>\n    <tr>\n      <th>75%</th>\n      <td>5.500000</td>\n      <td>6.086957</td>\n      <td>1.193133</td>\n      <td>1.092370</td>\n      <td>5.333333</td>\n    </tr>\n    <tr>\n      <th>max</th>\n      <td>10.000000</td>\n      <td>10.000000</td>\n      <td>10.000000</td>\n      <td>10.000000</td>\n      <td>10.000000</td>\n    </tr>\n  </tbody>\n</table>\n</div>"
     },
     "execution_count": 10,
     "metadata": {},
     "output_type": "execute_result"
    }
   ],
   "source": [
    "data.describe()"
   ],
   "metadata": {
    "collapsed": false,
    "pycharm": {
     "name": "#%%\n"
    }
   }
  },
  {
   "cell_type": "code",
   "execution_count": 11,
   "outputs": [
    {
     "data": {
      "text/plain": "     overall  potential   wage_eur  value_eur       age\n0  10.000000   9.608696   9.227468   4.618307  7.000000\n1   9.804348   9.413043   7.939914   6.543654  6.333333\n2   9.608696   9.217391   7.939914   3.087308  7.666667\n3   9.608696   9.217391   7.939914   6.984396  5.333333\n4   9.608696   9.217391  10.000000   6.822018  5.666667",
      "text/html": "<div>\n<style scoped>\n    .dataframe tbody tr th:only-of-type {\n        vertical-align: middle;\n    }\n\n    .dataframe tbody tr th {\n        vertical-align: top;\n    }\n\n    .dataframe thead th {\n        text-align: right;\n    }\n</style>\n<table border=\"1\" class=\"dataframe\">\n  <thead>\n    <tr style=\"text-align: right;\">\n      <th></th>\n      <th>overall</th>\n      <th>potential</th>\n      <th>wage_eur</th>\n      <th>value_eur</th>\n      <th>age</th>\n    </tr>\n  </thead>\n  <tbody>\n    <tr>\n      <th>0</th>\n      <td>10.000000</td>\n      <td>9.608696</td>\n      <td>9.227468</td>\n      <td>4.618307</td>\n      <td>7.000000</td>\n    </tr>\n    <tr>\n      <th>1</th>\n      <td>9.804348</td>\n      <td>9.413043</td>\n      <td>7.939914</td>\n      <td>6.543654</td>\n      <td>6.333333</td>\n    </tr>\n    <tr>\n      <th>2</th>\n      <td>9.608696</td>\n      <td>9.217391</td>\n      <td>7.939914</td>\n      <td>3.087308</td>\n      <td>7.666667</td>\n    </tr>\n    <tr>\n      <th>3</th>\n      <td>9.608696</td>\n      <td>9.217391</td>\n      <td>7.939914</td>\n      <td>6.984396</td>\n      <td>5.333333</td>\n    </tr>\n    <tr>\n      <th>4</th>\n      <td>9.608696</td>\n      <td>9.217391</td>\n      <td>10.000000</td>\n      <td>6.822018</td>\n      <td>5.666667</td>\n    </tr>\n  </tbody>\n</table>\n</div>"
     },
     "execution_count": 11,
     "metadata": {},
     "output_type": "execute_result"
    }
   ],
   "source": [
    "data.head()"
   ],
   "metadata": {
    "collapsed": false,
    "pycharm": {
     "name": "#%%\n"
    }
   }
  },
  {
   "cell_type": "code",
   "execution_count": 39,
   "outputs": [],
   "source": [
    "def random_centroids(data, k):\n",
    "    centroids = []\n",
    "    for i in range(k):\n",
    "        centroid = data.apply(lambda x: float(x.sample()))\n",
    "        centroids.append(centroid)\n",
    "    return pd.concat(centroids, axis=1)"
   ],
   "metadata": {
    "collapsed": false,
    "pycharm": {
     "name": "#%%\n"
    }
   }
  },
  {
   "cell_type": "code",
   "execution_count": 40,
   "outputs": [],
   "source": [
    "centriods = random_centroids(data, 5)"
   ],
   "metadata": {
    "collapsed": false,
    "pycharm": {
     "name": "#%%\n"
    }
   }
  },
  {
   "cell_type": "code",
   "execution_count": 41,
   "outputs": [
    {
     "data": {
      "text/plain": "                  0         1         2         3         4\noverall    4.913043  4.913043  1.978261  4.130435  5.304348\npotential  3.934783  5.108696  4.326087  6.673913  5.108696\nwage_eur   1.270386  1.038627  4.334764  1.000000  1.450644\nvalue_eur  1.021620  1.014660  1.012341  1.602703  1.138764\nage        3.333333  4.000000  3.666667  2.000000  3.333333",
      "text/html": "<div>\n<style scoped>\n    .dataframe tbody tr th:only-of-type {\n        vertical-align: middle;\n    }\n\n    .dataframe tbody tr th {\n        vertical-align: top;\n    }\n\n    .dataframe thead th {\n        text-align: right;\n    }\n</style>\n<table border=\"1\" class=\"dataframe\">\n  <thead>\n    <tr style=\"text-align: right;\">\n      <th></th>\n      <th>0</th>\n      <th>1</th>\n      <th>2</th>\n      <th>3</th>\n      <th>4</th>\n    </tr>\n  </thead>\n  <tbody>\n    <tr>\n      <th>overall</th>\n      <td>4.913043</td>\n      <td>4.913043</td>\n      <td>1.978261</td>\n      <td>4.130435</td>\n      <td>5.304348</td>\n    </tr>\n    <tr>\n      <th>potential</th>\n      <td>3.934783</td>\n      <td>5.108696</td>\n      <td>4.326087</td>\n      <td>6.673913</td>\n      <td>5.108696</td>\n    </tr>\n    <tr>\n      <th>wage_eur</th>\n      <td>1.270386</td>\n      <td>1.038627</td>\n      <td>4.334764</td>\n      <td>1.000000</td>\n      <td>1.450644</td>\n    </tr>\n    <tr>\n      <th>value_eur</th>\n      <td>1.021620</td>\n      <td>1.014660</td>\n      <td>1.012341</td>\n      <td>1.602703</td>\n      <td>1.138764</td>\n    </tr>\n    <tr>\n      <th>age</th>\n      <td>3.333333</td>\n      <td>4.000000</td>\n      <td>3.666667</td>\n      <td>2.000000</td>\n      <td>3.333333</td>\n    </tr>\n  </tbody>\n</table>\n</div>"
     },
     "execution_count": 41,
     "metadata": {},
     "output_type": "execute_result"
    }
   ],
   "source": [
    "centriods"
   ],
   "metadata": {
    "collapsed": false,
    "pycharm": {
     "name": "#%%\n"
    }
   }
  },
  {
   "cell_type": "code",
   "execution_count": null,
   "outputs": [],
   "source": [
    "# distance of each player to each player centriod"
   ],
   "metadata": {
    "collapsed": false,
    "pycharm": {
     "name": "#%%\n"
    }
   }
  },
  {
   "cell_type": "code",
   "execution_count": 42,
   "outputs": [],
   "source": [
    "def get_labels(data, centroids):\n",
    "    distances = centriods.apply(lambda x: np.sqrt(((data - x) ** 2).sum(axis=1)))\n",
    "    return distances.idxmin(axis=1) #index of minimum value in each row"
   ],
   "metadata": {
    "collapsed": false,
    "pycharm": {
     "name": "#%%\n"
    }
   }
  },
  {
   "cell_type": "code",
   "execution_count": 43,
   "outputs": [],
   "source": [
    "labels = get_labels(data, centriods)"
   ],
   "metadata": {
    "collapsed": false,
    "pycharm": {
     "name": "#%%\n"
    }
   }
  },
  {
   "cell_type": "code",
   "execution_count": 44,
   "outputs": [
    {
     "data": {
      "text/plain": "0        4\n1        4\n2        4\n3        4\n4        4\n        ..\n19234    2\n19235    2\n19236    2\n19237    2\n19238    2\nLength: 19165, dtype: int64"
     },
     "execution_count": 44,
     "metadata": {},
     "output_type": "execute_result"
    }
   ],
   "source": [
    "labels"
   ],
   "metadata": {
    "collapsed": false,
    "pycharm": {
     "name": "#%%\n"
    }
   }
  },
  {
   "cell_type": "code",
   "execution_count": 45,
   "outputs": [
    {
     "data": {
      "text/plain": "1    9302\n3    4211\n4    2961\n0    2632\n2      59\ndtype: int64"
     },
     "execution_count": 45,
     "metadata": {},
     "output_type": "execute_result"
    }
   ],
   "source": [
    "# how many players are in each cluster based on random centriods\n",
    "labels.value_counts()"
   ],
   "metadata": {
    "collapsed": false,
    "pycharm": {
     "name": "#%%\n"
    }
   }
  },
  {
   "cell_type": "code",
   "execution_count": 46,
   "outputs": [],
   "source": [
    "#geometric mean of all overall values for players in each cluster (0-5)\n",
    "def new_centroids(data, labels, k):\n",
    "    return data.groupby(labels).apply(lambda x: np.exp(np.log(x).mean())).T"
   ],
   "metadata": {
    "collapsed": false,
    "pycharm": {
     "name": "#%%\n"
    }
   }
  },
  {
   "cell_type": "code",
   "execution_count": 47,
   "outputs": [],
   "source": [
    "from sklearn.decomposition import PCA\n",
    "import matplotlib.pyplot as plt\n",
    "from IPython.display import clear_output"
   ],
   "metadata": {
    "collapsed": false,
    "pycharm": {
     "name": "#%%\n"
    }
   }
  },
  {
   "cell_type": "code",
   "execution_count": 48,
   "outputs": [],
   "source": [
    "def plot_clusters(data, labels, centroids, iteration):\n",
    "    pca = PCA(n_components=2)\n",
    "    data_2d = pca.fit_transform(data)\n",
    "    centroids_2d = pca.transform(centroids.T)\n",
    "    clear_output(wait=True)\n",
    "    plt.title(f'Iteration {iteration}')\n",
    "    plt.scatter(x=data_2d[:,0], y=data_2d[:,1], c=labels)\n",
    "    plt.scatter(x=centroids_2d[:,0], y=centroids_2d[:,1])\n",
    "    plt.show()"
   ],
   "metadata": {
    "collapsed": false,
    "pycharm": {
     "name": "#%%\n"
    }
   }
  },
  {
   "cell_type": "code",
   "execution_count": 49,
   "outputs": [
    {
     "data": {
      "text/plain": "<Figure size 432x288 with 1 Axes>",
      "image/png": "[encoded data removed]"
     },
     "metadata": {},
     "output_type": "display_data"
    }
   ],
   "source": [
    "max_iterations = 100\n",
    "centroid_count = 3\n",
    "\n",
    "centroids = random_centroids(data, centroid_count)\n",
    "old_centroids = pd.DataFrame()\n",
    "iteration = 1\n",
    "\n",
    "while iteration < max_iterations and not centroids.equals(old_centroids):\n",
    "    old_centroids = centroids\n",
    "\n",
    "    labels = get_labels(data, centroids)\n",
    "    centroids = new_centroids(data, labels, centroid_count)\n",
    "    plot_clusters(data, labels, centroids, iteration)\n",
    "    iteration += 1"
   ],
   "metadata": {
    "collapsed": false,
    "pycharm": {
     "name": "#%%\n"
    }
   }
  },
  {
   "cell_type": "code",
   "execution_count": 50,
   "outputs": [
    {
     "data": {
      "text/plain": "                  0         1         2         3         4\noverall    2.983135  4.983406  1.162743  3.716123  5.936648\npotential  3.718826  4.948018  2.656128  6.065143  6.502343\nwage_eur   1.024425  1.149620  1.011005  1.086795  1.547079\nvalue_eur  1.014570  1.069404  1.004025  1.084918  1.365413\nage        3.410745  5.018794  2.530885  2.138938  3.648261",
      "text/html": "<div>\n<style scoped>\n    .dataframe tbody tr th:only-of-type {\n        vertical-align: middle;\n    }\n\n    .dataframe tbody tr th {\n        vertical-align: top;\n    }\n\n    .dataframe thead th {\n        text-align: right;\n    }\n</style>\n<table border=\"1\" class=\"dataframe\">\n  <thead>\n    <tr style=\"text-align: right;\">\n      <th></th>\n      <th>0</th>\n      <th>1</th>\n      <th>2</th>\n      <th>3</th>\n      <th>4</th>\n    </tr>\n  </thead>\n  <tbody>\n    <tr>\n      <th>overall</th>\n      <td>2.983135</td>\n      <td>4.983406</td>\n      <td>1.162743</td>\n      <td>3.716123</td>\n      <td>5.936648</td>\n    </tr>\n    <tr>\n      <th>potential</th>\n      <td>3.718826</td>\n      <td>4.948018</td>\n      <td>2.656128</td>\n      <td>6.065143</td>\n      <td>6.502343</td>\n    </tr>\n    <tr>\n      <th>wage_eur</th>\n      <td>1.024425</td>\n      <td>1.149620</td>\n      <td>1.011005</td>\n      <td>1.086795</td>\n      <td>1.547079</td>\n    </tr>\n    <tr>\n      <th>value_eur</th>\n      <td>1.014570</td>\n      <td>1.069404</td>\n      <td>1.004025</td>\n      <td>1.084918</td>\n      <td>1.365413</td>\n    </tr>\n    <tr>\n      <th>age</th>\n      <td>3.410745</td>\n      <td>5.018794</td>\n      <td>2.530885</td>\n      <td>2.138938</td>\n      <td>3.648261</td>\n    </tr>\n  </tbody>\n</table>\n</div>"
     },
     "execution_count": 50,
     "metadata": {},
     "output_type": "execute_result"
    }
   ],
   "source": [
    "centroids"
   ],
   "metadata": {
    "collapsed": false,
    "pycharm": {
     "name": "#%%\n"
    }
   }
  },
  {
   "cell_type": "code",
   "execution_count": 51,
   "outputs": [
    {
     "data": {
      "text/plain": "1    9302\n3    4211\n4    2961\n0    2632\n2      59\ndtype: int64"
     },
     "execution_count": 51,
     "metadata": {},
     "output_type": "execute_result"
    }
   ],
   "source": [
    "labels.value_counts()"
   ],
   "metadata": {
    "collapsed": false,
    "pycharm": {
     "name": "#%%\n"
    }
   }
  },
  {
   "cell_type": "code",
   "execution_count": 52,
   "outputs": [
    {
     "data": {
      "text/plain": "            short_name  overall  potential  wage_eur  value_eur  age\n8028      Narcisso Mau       67         67    4000.0  1100000.0   21\n8029      Botelhinonsa       67         67    4000.0  1100000.0   21\n8030   Edenildo Lagoas       67         67    3000.0  1100000.0   21\n8040       Dener Rolim       67         67    4000.0  1200000.0   21\n8165      Elton Coengo       67         67    6000.0  1200000.0   21\n...                ...      ...        ...       ...        ...  ...\n19195         H. Singh       48         56     500.0   100000.0   19\n19205      Xie Longfei       48         53    2000.0    70000.0   20\n19208   Chen Zhengfeng       48         52    2000.0    70000.0   20\n19210        Gao Xiang       48         54     800.0    60000.0   20\n19213       Yang Haoyu       48         55    1000.0    90000.0   20\n\n[2632 rows x 6 columns]",
      "text/html": "<div>\n<style scoped>\n    .dataframe tbody tr th:only-of-type {\n        vertical-align: middle;\n    }\n\n    .dataframe tbody tr th {\n        vertical-align: top;\n    }\n\n    .dataframe thead th {\n        text-align: right;\n    }\n</style>\n<table border=\"1\" class=\"dataframe\">\n  <thead>\n    <tr style=\"text-align: right;\">\n      <th></th>\n      <th>short_name</th>\n      <th>overall</th>\n      <th>potential</th>\n      <th>wage_eur</th>\n      <th>value_eur</th>\n      <th>age</th>\n    </tr>\n  </thead>\n  <tbody>\n    <tr>\n      <th>8028</th>\n      <td>Narcisso Mau</td>\n      <td>67</td>\n      <td>67</td>\n      <td>4000.0</td>\n      <td>1100000.0</td>\n      <td>21</td>\n    </tr>\n    <tr>\n      <th>8029</th>\n      <td>Botelhinonsa</td>\n      <td>67</td>\n      <td>67</td>\n      <td>4000.0</td>\n      <td>1100000.0</td>\n      <td>21</td>\n    </tr>\n    <tr>\n      <th>8030</th>\n      <td>Edenildo Lagoas</td>\n      <td>67</td>\n      <td>67</td>\n      <td>3000.0</td>\n      <td>1100000.0</td>\n      <td>21</td>\n    </tr>\n    <tr>\n      <th>8040</th>\n      <td>Dener Rolim</td>\n      <td>67</td>\n      <td>67</td>\n      <td>4000.0</td>\n      <td>1200000.0</td>\n      <td>21</td>\n    </tr>\n    <tr>\n      <th>8165</th>\n      <td>Elton Coengo</td>\n      <td>67</td>\n      <td>67</td>\n      <td>6000.0</td>\n      <td>1200000.0</td>\n      <td>21</td>\n    </tr>\n    <tr>\n      <th>...</th>\n      <td>...</td>\n      <td>...</td>\n      <td>...</td>\n      <td>...</td>\n      <td>...</td>\n      <td>...</td>\n    </tr>\n    <tr>\n      <th>19195</th>\n      <td>H. Singh</td>\n      <td>48</td>\n      <td>56</td>\n      <td>500.0</td>\n      <td>100000.0</td>\n      <td>19</td>\n    </tr>\n    <tr>\n      <th>19205</th>\n      <td>Xie Longfei</td>\n      <td>48</td>\n      <td>53</td>\n      <td>2000.0</td>\n      <td>70000.0</td>\n      <td>20</td>\n    </tr>\n    <tr>\n      <th>19208</th>\n      <td>Chen Zhengfeng</td>\n      <td>48</td>\n      <td>52</td>\n      <td>2000.0</td>\n      <td>70000.0</td>\n      <td>20</td>\n    </tr>\n    <tr>\n      <th>19210</th>\n      <td>Gao Xiang</td>\n      <td>48</td>\n      <td>54</td>\n      <td>800.0</td>\n      <td>60000.0</td>\n      <td>20</td>\n    </tr>\n    <tr>\n      <th>19213</th>\n      <td>Yang Haoyu</td>\n      <td>48</td>\n      <td>55</td>\n      <td>1000.0</td>\n      <td>90000.0</td>\n      <td>20</td>\n    </tr>\n  </tbody>\n</table>\n<p>2632 rows × 6 columns</p>\n</div>"
     },
     "execution_count": 52,
     "metadata": {},
     "output_type": "execute_result"
    }
   ],
   "source": [
    "players[labels == 0][[\"short_name\"] + features]"
   ],
   "metadata": {
    "collapsed": false,
    "pycharm": {
     "name": "#%%\n"
    }
   }
  },
  {
   "cell_type": "code",
   "execution_count": 53,
   "outputs": [],
   "source": [
    "from sklearn.cluster import KMeans"
   ],
   "metadata": {
    "collapsed": false,
    "pycharm": {
     "name": "#%%\n"
    }
   }
  },
  {
   "cell_type": "code",
   "execution_count": 54,
   "outputs": [
    {
     "data": {
      "text/plain": "KMeans(n_clusters=3)"
     },
     "execution_count": 54,
     "metadata": {},
     "output_type": "execute_result"
    }
   ],
   "source": [
    "kmeans = KMeans(3)\n",
    "kmeans.fit(data)"
   ],
   "metadata": {
    "collapsed": false,
    "pycharm": {
     "name": "#%%\n"
    }
   }
  },
  {
   "cell_type": "code",
   "execution_count": 55,
   "outputs": [
    {
     "data": {
      "text/plain": "                  0         1         2\noverall    4.801395  3.596813  6.226470\npotential  4.504272  5.204622  6.620782\nwage_eur   1.113039  1.039850  1.654994\nvalue_eur  1.040041  1.035691  1.412551\nage        5.609582  2.710514  4.136990",
      "text/html": "<div>\n<style scoped>\n    .dataframe tbody tr th:only-of-type {\n        vertical-align: middle;\n    }\n\n    .dataframe tbody tr th {\n        vertical-align: top;\n    }\n\n    .dataframe thead th {\n        text-align: right;\n    }\n</style>\n<table border=\"1\" class=\"dataframe\">\n  <thead>\n    <tr style=\"text-align: right;\">\n      <th></th>\n      <th>0</th>\n      <th>1</th>\n      <th>2</th>\n    </tr>\n  </thead>\n  <tbody>\n    <tr>\n      <th>overall</th>\n      <td>4.801395</td>\n      <td>3.596813</td>\n      <td>6.226470</td>\n    </tr>\n    <tr>\n      <th>potential</th>\n      <td>4.504272</td>\n      <td>5.204622</td>\n      <td>6.620782</td>\n    </tr>\n    <tr>\n      <th>wage_eur</th>\n      <td>1.113039</td>\n      <td>1.039850</td>\n      <td>1.654994</td>\n    </tr>\n    <tr>\n      <th>value_eur</th>\n      <td>1.040041</td>\n      <td>1.035691</td>\n      <td>1.412551</td>\n    </tr>\n    <tr>\n      <th>age</th>\n      <td>5.609582</td>\n      <td>2.710514</td>\n      <td>4.136990</td>\n    </tr>\n  </tbody>\n</table>\n</div>"
     },
     "execution_count": 55,
     "metadata": {},
     "output_type": "execute_result"
    }
   ],
   "source": [
    "pd.DataFrame(kmeans.cluster_centers_, columns=features).T"
   ],
   "metadata": {
    "collapsed": false,
    "pycharm": {
     "name": "#%%\n"
    }
   }
  },
  {
   "cell_type": "code",
   "execution_count": null,
   "outputs": [],
   "source": [],
   "metadata": {
    "collapsed": false,
    "pycharm": {
     "name": "#%%\n"
    }
   }
  }
 ],
 "metadata": {
  "kernelspec": {
   "display_name": "Python 3",
   "language": "python",
   "name": "python3"
  },
  "language_info": {
   "codemirror_mode": {
    "name": "ipython",
    "version": 2
   },
   "file_extension": ".py",
   "mimetype": "text/x-python",
   "name": "python",
   "nbconvert_exporter": "python",
   "pygments_lexer": "ipython2",
   "version": "2.7.6"
  }
 },
 "nbformat": 4,
 "nbformat_minor": 0
}